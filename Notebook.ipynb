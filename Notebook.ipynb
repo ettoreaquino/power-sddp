{
 "cells": [
  {
   "cell_type": "code",
   "execution_count": 12,
   "id": "9dd8e6a5-b075-404b-85eb-6131fcca2a2a",
   "metadata": {},
   "outputs": [],
   "source": [
    "import powersddp as psddp\n",
    "\n",
    "data = {'load': [100, 15-, 50],\n",
    "        'discretizations': 3,\n",
    "        'stages': 3,\n",
    "        'scenarios': 2,\n",
    "        'outage_cost': 500,\n",
    "        'hydro-units': [{'name': 'HU1',\n",
    "                         'v_max': 100,\n",
    "                         'v_min': 20,\n",
    "                         'prod': 0.95,\n",
    "                         'flow_max': 60,\n",
    "                         'inflow_scenarios': [[23, 16], [19, 14], [15, 11]]}],\n",
    "        'thermal-units': [{'name': 'GT1', 'capacity': 15, 'cost': 10},\n",
    "                          {'name': 'GT2', 'capacity': 10, 'cost': 25}]}\n",
    "\n",
    "TestSystem = psddp.PowerSystem(data=data)"
   ]
  },
  {
   "cell_type": "code",
   "execution_count": 13,
   "id": "0b41801a-dc45-4777-a2ec-1294c91890cc",
   "metadata": {
    "scrolled": true,
    "tags": []
   },
   "outputs": [],
   "source": [
    "operation = TestSystem.dispatch()"
   ]
  },
  {
   "cell_type": "code",
   "execution_count": 14,
   "id": "785dfd83-9217-479d-a68e-965a0a44014d",
   "metadata": {},
   "outputs": [
    {
     "data": {
      "text/html": [
       "<div>\n",
       "<style scoped>\n",
       "    .dataframe tbody tr th:only-of-type {\n",
       "        vertical-align: middle;\n",
       "    }\n",
       "\n",
       "    .dataframe tbody tr th {\n",
       "        vertical-align: top;\n",
       "    }\n",
       "\n",
       "    .dataframe thead th {\n",
       "        text-align: right;\n",
       "    }\n",
       "</style>\n",
       "<table border=\"1\" class=\"dataframe\">\n",
       "  <thead>\n",
       "    <tr style=\"text-align: right;\">\n",
       "      <th></th>\n",
       "      <th>stage</th>\n",
       "      <th>storage_percentage</th>\n",
       "      <th>initial_volume</th>\n",
       "      <th>average_cost</th>\n",
       "    </tr>\n",
       "  </thead>\n",
       "  <tbody>\n",
       "    <tr>\n",
       "      <th>0</th>\n",
       "      <td>3</td>\n",
       "      <td>0%</td>\n",
       "      <td>20.0</td>\n",
       "      <td>55537.50</td>\n",
       "    </tr>\n",
       "    <tr>\n",
       "      <th>1</th>\n",
       "      <td>3</td>\n",
       "      <td>50%</td>\n",
       "      <td>60.0</td>\n",
       "      <td>36537.50</td>\n",
       "    </tr>\n",
       "    <tr>\n",
       "      <th>2</th>\n",
       "      <td>3</td>\n",
       "      <td>100%</td>\n",
       "      <td>100.0</td>\n",
       "      <td>34400.00</td>\n",
       "    </tr>\n",
       "    <tr>\n",
       "      <th>3</th>\n",
       "      <td>2</td>\n",
       "      <td>0%</td>\n",
       "      <td>20.0</td>\n",
       "      <td>60600.00</td>\n",
       "    </tr>\n",
       "    <tr>\n",
       "      <th>4</th>\n",
       "      <td>2</td>\n",
       "      <td>50%</td>\n",
       "      <td>60.0</td>\n",
       "      <td>41600.00</td>\n",
       "    </tr>\n",
       "    <tr>\n",
       "      <th>5</th>\n",
       "      <td>2</td>\n",
       "      <td>100%</td>\n",
       "      <td>100.0</td>\n",
       "      <td>34448.75</td>\n",
       "    </tr>\n",
       "    <tr>\n",
       "      <th>6</th>\n",
       "      <td>1</td>\n",
       "      <td>0%</td>\n",
       "      <td>20.0</td>\n",
       "      <td>64237.50</td>\n",
       "    </tr>\n",
       "    <tr>\n",
       "      <th>7</th>\n",
       "      <td>1</td>\n",
       "      <td>50%</td>\n",
       "      <td>60.0</td>\n",
       "      <td>45237.50</td>\n",
       "    </tr>\n",
       "    <tr>\n",
       "      <th>8</th>\n",
       "      <td>1</td>\n",
       "      <td>100%</td>\n",
       "      <td>100.0</td>\n",
       "      <td>34763.50</td>\n",
       "    </tr>\n",
       "  </tbody>\n",
       "</table>\n",
       "</div>"
      ],
      "text/plain": [
       "   stage storage_percentage  initial_volume  average_cost\n",
       "0      3                 0%            20.0      55537.50\n",
       "1      3                50%            60.0      36537.50\n",
       "2      3               100%           100.0      34400.00\n",
       "3      2                 0%            20.0      60600.00\n",
       "4      2                50%            60.0      41600.00\n",
       "5      2               100%           100.0      34448.75\n",
       "6      1                 0%            20.0      64237.50\n",
       "7      1                50%            60.0      45237.50\n",
       "8      1               100%           100.0      34763.50"
      ]
     },
     "execution_count": 28,
     "metadata": {},
     "output_type": "execute_result"
    }
   ],
   "source": [
    "operation.iloc[0]"
   ]
  },
  {
   "cell_type": "code",
   "execution_count": 8,
   "id": "07cffc7f-158e-4277-8a80-7e91e6f860b1",
   "metadata": {},
   "outputs": [
    {
     "data": {
      "text/plain": [
       "6725.0"
      ]
     },
     "execution_count": 8,
     "metadata": {},
     "output_type": "execute_result"
    }
   ],
   "source": [
    "operation.iloc[0].average_cost"
   ]
  },
  {
   "cell_type": "markdown",
   "id": "af0e4777-071d-45f7-b711-f7314f64c94b",
   "metadata": {},
   "source": [
    "## Decision Variables\n",
    "\n",
    "### Hydro Units\n",
    "- Final volume $v_f$: The final volume of the reservoir after the operational period\n",
    "- Turbined flow  $v_t$: The ammount of water that was turbined during the period\n",
    "- Shed volume $v_v$: The ammount of water that was shed in the period\n",
    "- Initial volume $v_i$\n",
    "- Influx $afl$\n",
    "\n",
    "### Thermal Units\n",
    "- total generation $g_t$: The total amount of generation provided by the unit during the period\n",
    "\n",
    "### System\n",
    "- Outage $def$: The total ammount of power that will not be delivered by the system\n",
    "\n",
    "\n",
    "\n",
    "## The Objective Function\n",
    "\n",
    "Assuming a problem with 3 generation units (2 TGUs and 1 HGU) let's write down the Objetive Function of our problem:\n",
    "\n",
    "$$\n",
    "\\begin{equation}\n",
    "    \\begin{aligned}\n",
    "        \\min \\quad                    & C_1\\cdot g_{t_1} + C_2\\cdot g_{t_2} + C_{def}\\cdot def + 0.01\\cdot v_v\\\\\n",
    "        \\textrm{s.t.} \\quad           & \\\\\n",
    "        \\textrm{hydro balance} \\quad  & v_f(i) = v_i(i) + afl(i) - v_t(i) \\\\\n",
    "        \\textrm{load supplying} \\quad & \\rho\\cdot v_t + g_{t_1} + g_{t_2} + def = \\textrm{load}\\\\\n",
    "        \\textrm{constraints} \\quad    & \\\\\n",
    "                                      & v_{f_{min}}\\leq v_f \\leq v_{f_{max}}\\\\\n",
    "                                      & v_{t_{min}}\\leq v_t \\leq v_{t_{max}}\\\\\n",
    "                                      & v_{v_{min}}\\leq v_v \\leq v_{v_{max}}\\\\\n",
    "                                      & g_{t_{min}}\\leq g_t^\\ast \\leq g_{t_{max}}\\\\\n",
    "        ^\\ast \\textrm{for each TGU}& \n",
    "    \\end{aligned}\n",
    "\\end{equation}\n",
    "$$\n",
    "\n",
    "> Later we shall also add the Future Cost Function $\\alpha$ in the minimization function "
   ]
  },
  {
   "cell_type": "code",
   "execution_count": 16,
   "id": "ccbf3a14-01ed-4942-acb3-a4c64f47b6fd",
   "metadata": {},
   "outputs": [],
   "source": [
    "import cvxopt.modeling as model\n",
    "from cvxopt import solvers\n",
    "\n",
    "import pandas as pd\n",
    "import plotly.graph_objects as go\n",
    "from plotly.subplots import make_subplots\n",
    "\n",
    "solvers.options['glpk'] = dict(msg_lev='GLP_MSG_OFF')\n",
    "\n",
    "def dispatch(system, v_i, inflow, cuts, stage, verbose:bool=False):\n",
    "    n_tgu = len(system.data['thermal-units'])\n",
    "    n_hgu = len(system.data['hydro-units'])\n",
    "    solvers.options['show_progress'] = verbose\n",
    "\n",
    "    ## Initializing Model Variables\n",
    "    v_f = model.variable(n_hgu, \"Final Volume of the Hydro Unit\")\n",
    "    v_t = model.variable(n_hgu, \"Turbined Flow of the Hydro Unit\")\n",
    "    v_v = model.variable(n_hgu, \"Shed flow of the Hydro Unit\")\n",
    "    g_t = model.variable(n_tgu, \"Power generated by the Thermal Unit\")\n",
    "    deficit = model.variable(1, \"Power deficit\")\n",
    "    alpha = model.variable(1, \"Future Cost\")\n",
    "\n",
    "    ## Objective Function\n",
    "    fob = 0\n",
    "    for i, tgu in enumerate(system.data['thermal-units']):\n",
    "        fob += tgu[\"cost\"]*g_t[i]\n",
    "    fob+=TestSystem.data['outage_cost']*deficit[0]\n",
    "    for i, _ in enumerate(system.data['hydro-units']):\n",
    "        fob += 0.01*v_v[i]\n",
    "    fob += 1.0 * alpha[0]\n",
    "\n",
    "    ## Constraints\n",
    "    \n",
    "    ### Hydro Balance\n",
    "    constraints = []\n",
    "    for i, hgu in enumerate(system.data['hydro-units']):\n",
    "        constraints.append( v_f[i] == float(v_i[i]) + float(inflow[i]) - v_t[i] - v_v[i] )\n",
    "\n",
    "    supplying = 0\n",
    "    ### Load Supply\n",
    "    for i, hgu in enumerate(system.data['hydro-units']):\n",
    "        supplying += hgu[\"prod\"] * v_t[i]\n",
    "\n",
    "    for i, tgu in enumerate(system.data['thermal-units']):\n",
    "        supplying += g_t[i]\n",
    "\n",
    "    supplying += deficit[0]\n",
    "\n",
    "    constraints.append(supplying == system.data['load'][stage-2])\n",
    "    \n",
    "\n",
    "    ### Bounds\n",
    "    for i, hgu in enumerate(system.data['hydro-units']):\n",
    "        constraints.append(v_f[i] >= hgu[\"v_min\"])\n",
    "        constraints.append(v_f[i] <= hgu[\"v_max\"])\n",
    "        constraints.append(v_t[i] >= 0)\n",
    "        constraints.append(v_t[i] <= hgu[\"flow_max\"])\n",
    "        constraints.append(v_v[i] >= 0)\n",
    "\n",
    "    for i, tgu in enumerate(system.data['thermal-units']):\n",
    "        constraints.append(g_t[i] >= 0)\n",
    "        constraints.append(g_t[i] <= tgu[\"capacity\"])\n",
    "\n",
    "    constraints.append(deficit[0] >= 0)\n",
    "    constraints.append(alpha[0] >= 0)\n",
    "    \n",
    "    ### Cut constraint (Future cost function of forward stage)\n",
    "    for cut in cuts:\n",
    "        if cut['stage'] == stage:\n",
    "            equation = 0\n",
    "            for hgu in range(n_hgu):\n",
    "                equation += float(cut['coefs'][hgu])*v_f[hgu]\n",
    "            equation += float(cut['coef_b'])\n",
    "            constraints.append(alpha[0] >= equation)\n",
    "    \n",
    "    ## Solving\n",
    "    opt_problem = model.op(objective=fob, constraints=constraints)\n",
    "    opt_problem.solve(format='dense',solver='glpk')\n",
    "\n",
    "    ## Print\n",
    "    if verbose:\n",
    "        print(\"Total Cost: {}\".format(fob.value()))\n",
    "\n",
    "        for i, hgu in enumerate(system.data['hydro-units']):\n",
    "            print(\"{} {} is {} hm3\".format(v_f.name,i,v_f[i].value()))\n",
    "            print(\"{} {} is {} hm3\".format(v_t.name,i,v_t[i].value()))\n",
    "            print(\"{} {} is {} hm3\".format(v_v.name,i,v_v[i].value()))\n",
    "\n",
    "        for i, tgu in enumerate(system.data['thermal-units']):\n",
    "            print(\"{} {} is {} MWmed\".format(g_t.name,i,g_t[i].value()))\n",
    "\n",
    "        print(\"{} is {} MWmed\".format(deficit.name,deficit[0].value()))\n",
    "\n",
    "        for i, hgu in enumerate(system.data['hydro-units']):\n",
    "            print(\"The cost of water at Hydro Unit {} is {} hm3\".format(i,constraints[i].multiplier.value))\n",
    "\n",
    "        print(\"The Marginal Cost is: {}\".format(constraints[n_hgu].multiplier.value))\n",
    "        \n",
    "    return {\n",
    "        \"deficit\": deficit[0].value()[0],\n",
    "        \"operational_marginal_cost\": constraints[n_hgu].multiplier.value[0],\n",
    "        \"total_cost\": fob.value()[0],\n",
    "        \"future_cost\": alpha[0].value()[0],\n",
    "        \"hydro_units\": [{\n",
    "            \"v_f\": v_f[i].value()[0],\n",
    "            \"v_t\": v_t[i].value()[0],\n",
    "            \"v_v\": v_v[i].value()[0],\n",
    "            \"water_marginal_cost\": constraints[i].multiplier.value[0]} for i in range(n_hgu)],\n",
    "        \"thermal_units\": [{\"g_t\": g_t[i].value()[0]} for i in range(n_tgu)]\n",
    "    }\n",
    "\n",
    "def plot_future_cost_function(operation: pd.DataFrame):\n",
    "    \n",
    "    n_stages = len(operation['stage'].unique())\n",
    "    \n",
    "    fig = make_subplots(rows=n_stages, cols=1)\n",
    "\n",
    "    i = 1\n",
    "    for stage in operation['stage'].unique():\n",
    "        stage_df = operation.loc[operation['stage'] == stage] \n",
    "        fig.add_trace(go.Scatter(x=stage_df[\"v_i\"],\n",
    "                                 y=stage_df['average_cost'],\n",
    "                                 mode='lines',\n",
    "                                 name=\"Stage {}\".format(i)), row=stage, col=1)\n",
    "        i+=1\n",
    "\n",
    "    fig.update_xaxes(title_text=\"Final Volume [hm3]\")\n",
    "    fig.update_yaxes(title_text=\"$/MW\")\n",
    "\n",
    "    fig.update_layout(height=300*TestSystem.data['stages'], title_text=\"Future Cost Function\")\n",
    "    fig.show()"
   ]
  },
  {
   "cell_type": "code",
   "execution_count": 17,
   "id": "2b718ada-dd91-4cb6-a31c-f36b61674065",
   "metadata": {
    "tags": []
   },
   "outputs": [
    {
     "data": {
      "application/vnd.plotly.v1+json": {
       "config": {
        "plotlyServerURL": "https://plot.ly"
       },
       "data": [
        {
         "mode": "lines",
         "name": "Stage 1",
         "type": "scatter",
         "x": [
          20,
          60,
          100
         ],
         "xaxis": "x3",
         "y": [
          6725,
          7.75,
          0
         ],
         "yaxis": "y3"
        },
        {
         "mode": "lines",
         "name": "Stage 2",
         "type": "scatter",
         "x": [
          20,
          60,
          100
         ],
         "xaxis": "x2",
         "y": [
          11787.5,
          226.93,
          0.62
         ],
         "yaxis": "y2"
        },
        {
         "mode": "lines",
         "name": "Stage 3",
         "type": "scatter",
         "x": [
          20,
          60,
          100
         ],
         "xaxis": "x",
         "y": [
          15425,
          576.31,
          161.68
         ],
         "yaxis": "y"
        }
       ],
       "layout": {
        "autosize": true,
        "template": {
         "data": {
          "bar": [
           {
            "error_x": {
             "color": "#2a3f5f"
            },
            "error_y": {
             "color": "#2a3f5f"
            },
            "marker": {
             "line": {
              "color": "#E5ECF6",
              "width": 0.5
             },
             "pattern": {
              "fillmode": "overlay",
              "size": 10,
              "solidity": 0.2
             }
            },
            "type": "bar"
           }
          ],
          "barpolar": [
           {
            "marker": {
             "line": {
              "color": "#E5ECF6",
              "width": 0.5
             },
             "pattern": {
              "fillmode": "overlay",
              "size": 10,
              "solidity": 0.2
             }
            },
            "type": "barpolar"
           }
          ],
          "carpet": [
           {
            "aaxis": {
             "endlinecolor": "#2a3f5f",
             "gridcolor": "white",
             "linecolor": "white",
             "minorgridcolor": "white",
             "startlinecolor": "#2a3f5f"
            },
            "baxis": {
             "endlinecolor": "#2a3f5f",
             "gridcolor": "white",
             "linecolor": "white",
             "minorgridcolor": "white",
             "startlinecolor": "#2a3f5f"
            },
            "type": "carpet"
           }
          ],
          "choropleth": [
           {
            "colorbar": {
             "outlinewidth": 0,
             "ticks": ""
            },
            "type": "choropleth"
           }
          ],
          "contour": [
           {
            "colorbar": {
             "outlinewidth": 0,
             "ticks": ""
            },
            "colorscale": [
             [
              0,
              "#0d0887"
             ],
             [
              0.1111111111111111,
              "#46039f"
             ],
             [
              0.2222222222222222,
              "#7201a8"
             ],
             [
              0.3333333333333333,
              "#9c179e"
             ],
             [
              0.4444444444444444,
              "#bd3786"
             ],
             [
              0.5555555555555556,
              "#d8576b"
             ],
             [
              0.6666666666666666,
              "#ed7953"
             ],
             [
              0.7777777777777778,
              "#fb9f3a"
             ],
             [
              0.8888888888888888,
              "#fdca26"
             ],
             [
              1,
              "#f0f921"
             ]
            ],
            "type": "contour"
           }
          ],
          "contourcarpet": [
           {
            "colorbar": {
             "outlinewidth": 0,
             "ticks": ""
            },
            "type": "contourcarpet"
           }
          ],
          "heatmap": [
           {
            "colorbar": {
             "outlinewidth": 0,
             "ticks": ""
            },
            "colorscale": [
             [
              0,
              "#0d0887"
             ],
             [
              0.1111111111111111,
              "#46039f"
             ],
             [
              0.2222222222222222,
              "#7201a8"
             ],
             [
              0.3333333333333333,
              "#9c179e"
             ],
             [
              0.4444444444444444,
              "#bd3786"
             ],
             [
              0.5555555555555556,
              "#d8576b"
             ],
             [
              0.6666666666666666,
              "#ed7953"
             ],
             [
              0.7777777777777778,
              "#fb9f3a"
             ],
             [
              0.8888888888888888,
              "#fdca26"
             ],
             [
              1,
              "#f0f921"
             ]
            ],
            "type": "heatmap"
           }
          ],
          "heatmapgl": [
           {
            "colorbar": {
             "outlinewidth": 0,
             "ticks": ""
            },
            "colorscale": [
             [
              0,
              "#0d0887"
             ],
             [
              0.1111111111111111,
              "#46039f"
             ],
             [
              0.2222222222222222,
              "#7201a8"
             ],
             [
              0.3333333333333333,
              "#9c179e"
             ],
             [
              0.4444444444444444,
              "#bd3786"
             ],
             [
              0.5555555555555556,
              "#d8576b"
             ],
             [
              0.6666666666666666,
              "#ed7953"
             ],
             [
              0.7777777777777778,
              "#fb9f3a"
             ],
             [
              0.8888888888888888,
              "#fdca26"
             ],
             [
              1,
              "#f0f921"
             ]
            ],
            "type": "heatmapgl"
           }
          ],
          "histogram": [
           {
            "marker": {
             "pattern": {
              "fillmode": "overlay",
              "size": 10,
              "solidity": 0.2
             }
            },
            "type": "histogram"
           }
          ],
          "histogram2d": [
           {
            "colorbar": {
             "outlinewidth": 0,
             "ticks": ""
            },
            "colorscale": [
             [
              0,
              "#0d0887"
             ],
             [
              0.1111111111111111,
              "#46039f"
             ],
             [
              0.2222222222222222,
              "#7201a8"
             ],
             [
              0.3333333333333333,
              "#9c179e"
             ],
             [
              0.4444444444444444,
              "#bd3786"
             ],
             [
              0.5555555555555556,
              "#d8576b"
             ],
             [
              0.6666666666666666,
              "#ed7953"
             ],
             [
              0.7777777777777778,
              "#fb9f3a"
             ],
             [
              0.8888888888888888,
              "#fdca26"
             ],
             [
              1,
              "#f0f921"
             ]
            ],
            "type": "histogram2d"
           }
          ],
          "histogram2dcontour": [
           {
            "colorbar": {
             "outlinewidth": 0,
             "ticks": ""
            },
            "colorscale": [
             [
              0,
              "#0d0887"
             ],
             [
              0.1111111111111111,
              "#46039f"
             ],
             [
              0.2222222222222222,
              "#7201a8"
             ],
             [
              0.3333333333333333,
              "#9c179e"
             ],
             [
              0.4444444444444444,
              "#bd3786"
             ],
             [
              0.5555555555555556,
              "#d8576b"
             ],
             [
              0.6666666666666666,
              "#ed7953"
             ],
             [
              0.7777777777777778,
              "#fb9f3a"
             ],
             [
              0.8888888888888888,
              "#fdca26"
             ],
             [
              1,
              "#f0f921"
             ]
            ],
            "type": "histogram2dcontour"
           }
          ],
          "mesh3d": [
           {
            "colorbar": {
             "outlinewidth": 0,
             "ticks": ""
            },
            "type": "mesh3d"
           }
          ],
          "parcoords": [
           {
            "line": {
             "colorbar": {
              "outlinewidth": 0,
              "ticks": ""
             }
            },
            "type": "parcoords"
           }
          ],
          "pie": [
           {
            "automargin": true,
            "type": "pie"
           }
          ],
          "scatter": [
           {
            "marker": {
             "colorbar": {
              "outlinewidth": 0,
              "ticks": ""
             }
            },
            "type": "scatter"
           }
          ],
          "scatter3d": [
           {
            "line": {
             "colorbar": {
              "outlinewidth": 0,
              "ticks": ""
             }
            },
            "marker": {
             "colorbar": {
              "outlinewidth": 0,
              "ticks": ""
             }
            },
            "type": "scatter3d"
           }
          ],
          "scattercarpet": [
           {
            "marker": {
             "colorbar": {
              "outlinewidth": 0,
              "ticks": ""
             }
            },
            "type": "scattercarpet"
           }
          ],
          "scattergeo": [
           {
            "marker": {
             "colorbar": {
              "outlinewidth": 0,
              "ticks": ""
             }
            },
            "type": "scattergeo"
           }
          ],
          "scattergl": [
           {
            "marker": {
             "colorbar": {
              "outlinewidth": 0,
              "ticks": ""
             }
            },
            "type": "scattergl"
           }
          ],
          "scattermapbox": [
           {
            "marker": {
             "colorbar": {
              "outlinewidth": 0,
              "ticks": ""
             }
            },
            "type": "scattermapbox"
           }
          ],
          "scatterpolar": [
           {
            "marker": {
             "colorbar": {
              "outlinewidth": 0,
              "ticks": ""
             }
            },
            "type": "scatterpolar"
           }
          ],
          "scatterpolargl": [
           {
            "marker": {
             "colorbar": {
              "outlinewidth": 0,
              "ticks": ""
             }
            },
            "type": "scatterpolargl"
           }
          ],
          "scatterternary": [
           {
            "marker": {
             "colorbar": {
              "outlinewidth": 0,
              "ticks": ""
             }
            },
            "type": "scatterternary"
           }
          ],
          "surface": [
           {
            "colorbar": {
             "outlinewidth": 0,
             "ticks": ""
            },
            "colorscale": [
             [
              0,
              "#0d0887"
             ],
             [
              0.1111111111111111,
              "#46039f"
             ],
             [
              0.2222222222222222,
              "#7201a8"
             ],
             [
              0.3333333333333333,
              "#9c179e"
             ],
             [
              0.4444444444444444,
              "#bd3786"
             ],
             [
              0.5555555555555556,
              "#d8576b"
             ],
             [
              0.6666666666666666,
              "#ed7953"
             ],
             [
              0.7777777777777778,
              "#fb9f3a"
             ],
             [
              0.8888888888888888,
              "#fdca26"
             ],
             [
              1,
              "#f0f921"
             ]
            ],
            "type": "surface"
           }
          ],
          "table": [
           {
            "cells": {
             "fill": {
              "color": "#EBF0F8"
             },
             "line": {
              "color": "white"
             }
            },
            "header": {
             "fill": {
              "color": "#C8D4E3"
             },
             "line": {
              "color": "white"
             }
            },
            "type": "table"
           }
          ]
         },
         "layout": {
          "annotationdefaults": {
           "arrowcolor": "#2a3f5f",
           "arrowhead": 0,
           "arrowwidth": 1
          },
          "autotypenumbers": "strict",
          "coloraxis": {
           "colorbar": {
            "outlinewidth": 0,
            "ticks": ""
           }
          },
          "colorscale": {
           "diverging": [
            [
             0,
             "#8e0152"
            ],
            [
             0.1,
             "#c51b7d"
            ],
            [
             0.2,
             "#de77ae"
            ],
            [
             0.3,
             "#f1b6da"
            ],
            [
             0.4,
             "#fde0ef"
            ],
            [
             0.5,
             "#f7f7f7"
            ],
            [
             0.6,
             "#e6f5d0"
            ],
            [
             0.7,
             "#b8e186"
            ],
            [
             0.8,
             "#7fbc41"
            ],
            [
             0.9,
             "#4d9221"
            ],
            [
             1,
             "#276419"
            ]
           ],
           "sequential": [
            [
             0,
             "#0d0887"
            ],
            [
             0.1111111111111111,
             "#46039f"
            ],
            [
             0.2222222222222222,
             "#7201a8"
            ],
            [
             0.3333333333333333,
             "#9c179e"
            ],
            [
             0.4444444444444444,
             "#bd3786"
            ],
            [
             0.5555555555555556,
             "#d8576b"
            ],
            [
             0.6666666666666666,
             "#ed7953"
            ],
            [
             0.7777777777777778,
             "#fb9f3a"
            ],
            [
             0.8888888888888888,
             "#fdca26"
            ],
            [
             1,
             "#f0f921"
            ]
           ],
           "sequentialminus": [
            [
             0,
             "#0d0887"
            ],
            [
             0.1111111111111111,
             "#46039f"
            ],
            [
             0.2222222222222222,
             "#7201a8"
            ],
            [
             0.3333333333333333,
             "#9c179e"
            ],
            [
             0.4444444444444444,
             "#bd3786"
            ],
            [
             0.5555555555555556,
             "#d8576b"
            ],
            [
             0.6666666666666666,
             "#ed7953"
            ],
            [
             0.7777777777777778,
             "#fb9f3a"
            ],
            [
             0.8888888888888888,
             "#fdca26"
            ],
            [
             1,
             "#f0f921"
            ]
           ]
          },
          "colorway": [
           "#636efa",
           "#EF553B",
           "#00cc96",
           "#ab63fa",
           "#FFA15A",
           "#19d3f3",
           "#FF6692",
           "#B6E880",
           "#FF97FF",
           "#FECB52"
          ],
          "font": {
           "color": "#2a3f5f"
          },
          "geo": {
           "bgcolor": "white",
           "lakecolor": "white",
           "landcolor": "#E5ECF6",
           "showlakes": true,
           "showland": true,
           "subunitcolor": "white"
          },
          "hoverlabel": {
           "align": "left"
          },
          "hovermode": "closest",
          "mapbox": {
           "style": "light"
          },
          "paper_bgcolor": "white",
          "plot_bgcolor": "#E5ECF6",
          "polar": {
           "angularaxis": {
            "gridcolor": "white",
            "linecolor": "white",
            "ticks": ""
           },
           "bgcolor": "#E5ECF6",
           "radialaxis": {
            "gridcolor": "white",
            "linecolor": "white",
            "ticks": ""
           }
          },
          "scene": {
           "xaxis": {
            "backgroundcolor": "#E5ECF6",
            "gridcolor": "white",
            "gridwidth": 2,
            "linecolor": "white",
            "showbackground": true,
            "ticks": "",
            "zerolinecolor": "white"
           },
           "yaxis": {
            "backgroundcolor": "#E5ECF6",
            "gridcolor": "white",
            "gridwidth": 2,
            "linecolor": "white",
            "showbackground": true,
            "ticks": "",
            "zerolinecolor": "white"
           },
           "zaxis": {
            "backgroundcolor": "#E5ECF6",
            "gridcolor": "white",
            "gridwidth": 2,
            "linecolor": "white",
            "showbackground": true,
            "ticks": "",
            "zerolinecolor": "white"
           }
          },
          "shapedefaults": {
           "line": {
            "color": "#2a3f5f"
           }
          },
          "ternary": {
           "aaxis": {
            "gridcolor": "white",
            "linecolor": "white",
            "ticks": ""
           },
           "baxis": {
            "gridcolor": "white",
            "linecolor": "white",
            "ticks": ""
           },
           "bgcolor": "#E5ECF6",
           "caxis": {
            "gridcolor": "white",
            "linecolor": "white",
            "ticks": ""
           }
          },
          "title": {
           "x": 0.05
          },
          "xaxis": {
           "automargin": true,
           "gridcolor": "white",
           "linecolor": "white",
           "ticks": "",
           "title": {
            "standoff": 15
           },
           "zerolinecolor": "white",
           "zerolinewidth": 2
          },
          "yaxis": {
           "automargin": true,
           "gridcolor": "white",
           "linecolor": "white",
           "ticks": "",
           "title": {
            "standoff": 15
           },
           "zerolinecolor": "white",
           "zerolinewidth": 2
          }
         }
        },
        "title": {
         "text": "Future Cost Function"
        },
        "xaxis": {
         "anchor": "y",
         "autorange": true,
         "domain": [
          0,
          1
         ],
         "range": [
          20,
          100
         ],
         "title": {
          "text": "Final Volume [hm3]"
         },
         "type": "linear"
        },
        "xaxis2": {
         "anchor": "y2",
         "autorange": true,
         "domain": [
          0,
          1
         ],
         "range": [
          20,
          100
         ],
         "title": {
          "text": "Final Volume [hm3]"
         },
         "type": "linear"
        },
        "xaxis3": {
         "anchor": "y3",
         "autorange": true,
         "domain": [
          0,
          1
         ],
         "range": [
          20,
          100
         ],
         "title": {
          "text": "Final Volume [hm3]"
         },
         "type": "linear"
        },
        "yaxis": {
         "anchor": "x",
         "autorange": true,
         "domain": [
          0.7333333333333333,
          1
         ],
         "range": [
          -686.2822222222221,
          16272.962222222222
         ],
         "title": {
          "text": "$/MW"
         },
         "type": "linear"
        },
        "yaxis2": {
         "anchor": "x2",
         "autorange": true,
         "domain": [
          0.36666666666666664,
          0.6333333333333333
         ],
         "range": [
          -654.2066666666667,
          12442.326666666666
         ],
         "title": {
          "text": "$/MW"
         },
         "type": "linear"
        },
        "yaxis3": {
         "anchor": "x3",
         "autorange": true,
         "domain": [
          0,
          0.26666666666666666
         ],
         "range": [
          -373.61111111111114,
          7098.611111111111
         ],
         "title": {
          "text": "$/MW"
         },
         "type": "linear"
        }
       }
      },
      "image/png": "[encoded data removed]",
      "text/html": [
       "<div>                            <div id=\"5fc77ee3-3b5c-46f4-8eb6-e0d83b577b25\" class=\"plotly-graph-div\" style=\"height:900px; width:100%;\"></div>            <script type=\"text/javascript\">                require([\"plotly\"], function(Plotly) {                    window.PLOTLYENV=window.PLOTLYENV || {};                                    if (document.getElementById(\"5fc77ee3-3b5c-46f4-8eb6-e0d83b577b25\")) {                    Plotly.newPlot(                        \"5fc77ee3-3b5c-46f4-8eb6-e0d83b577b25\",                        [{\"mode\":\"lines\",\"name\":\"Stage 1\",\"type\":\"scatter\",\"x\":[20.0,60.0,100.0],\"xaxis\":\"x3\",\"y\":[6725.0,7.75,-0.0],\"yaxis\":\"y3\"},{\"mode\":\"lines\",\"name\":\"Stage 2\",\"type\":\"scatter\",\"x\":[20.0,60.0,100.0],\"xaxis\":\"x2\",\"y\":[11787.5,226.93,0.62],\"yaxis\":\"y2\"},{\"mode\":\"lines\",\"name\":\"Stage 3\",\"type\":\"scatter\",\"x\":[20.0,60.0,100.0],\"xaxis\":\"x\",\"y\":[15425.0,576.31,161.68],\"yaxis\":\"y\"}],                        {\"height\":900,\"template\":{\"data\":{\"bar\":[{\"error_x\":{\"color\":\"#2a3f5f\"},\"error_y\":{\"color\":\"#2a3f5f\"},\"marker\":{\"line\":{\"color\":\"#E5ECF6\",\"width\":0.5},\"pattern\":{\"fillmode\":\"overlay\",\"size\":10,\"solidity\":0.2}},\"type\":\"bar\"}],\"barpolar\":[{\"marker\":{\"line\":{\"color\":\"#E5ECF6\",\"width\":0.5},\"pattern\":{\"fillmode\":\"overlay\",\"size\":10,\"solidity\":0.2}},\"type\":\"barpolar\"}],\"carpet\":[{\"aaxis\":{\"endlinecolor\":\"#2a3f5f\",\"gridcolor\":\"white\",\"linecolor\":\"white\",\"minorgridcolor\":\"white\",\"startlinecolor\":\"#2a3f5f\"},\"baxis\":{\"endlinecolor\":\"#2a3f5f\",\"gridcolor\":\"white\",\"linecolor\":\"white\",\"minorgridcolor\":\"white\",\"startlinecolor\":\"#2a3f5f\"},\"type\":\"carpet\"}],\"choropleth\":[{\"colorbar\":{\"outlinewidth\":0,\"ticks\":\"\"},\"type\":\"choropleth\"}],\"contour\":[{\"colorbar\":{\"outlinewidth\":0,\"ticks\":\"\"},\"colorscale\":[[0.0,\"#0d0887\"],[0.1111111111111111,\"#46039f\"],[0.2222222222222222,\"#7201a8\"],[0.3333333333333333,\"#9c179e\"],[0.4444444444444444,\"#bd3786\"],[0.5555555555555556,\"#d8576b\"],[0.6666666666666666,\"#ed7953\"],[0.7777777777777778,\"#fb9f3a\"],[0.8888888888888888,\"#fdca26\"],[1.0,\"#f0f921\"]],\"type\":\"contour\"}],\"contourcarpet\":[{\"colorbar\":{\"outlinewidth\":0,\"ticks\":\"\"},\"type\":\"contourcarpet\"}],\"heatmap\":[{\"colorbar\":{\"outlinewidth\":0,\"ticks\":\"\"},\"colorscale\":[[0.0,\"#0d0887\"],[0.1111111111111111,\"#46039f\"],[0.2222222222222222,\"#7201a8\"],[0.3333333333333333,\"#9c179e\"],[0.4444444444444444,\"#bd3786\"],[0.5555555555555556,\"#d8576b\"],[0.6666666666666666,\"#ed7953\"],[0.7777777777777778,\"#fb9f3a\"],[0.8888888888888888,\"#fdca26\"],[1.0,\"#f0f921\"]],\"type\":\"heatmap\"}],\"heatmapgl\":[{\"colorbar\":{\"outlinewidth\":0,\"ticks\":\"\"},\"colorscale\":[[0.0,\"#0d0887\"],[0.1111111111111111,\"#46039f\"],[0.2222222222222222,\"#7201a8\"],[0.3333333333333333,\"#9c179e\"],[0.4444444444444444,\"#bd3786\"],[0.5555555555555556,\"#d8576b\"],[0.6666666666666666,\"#ed7953\"],[0.7777777777777778,\"#fb9f3a\"],[0.8888888888888888,\"#fdca26\"],[1.0,\"#f0f921\"]],\"type\":\"heatmapgl\"}],\"histogram\":[{\"marker\":{\"pattern\":{\"fillmode\":\"overlay\",\"size\":10,\"solidity\":0.2}},\"type\":\"histogram\"}],\"histogram2d\":[{\"colorbar\":{\"outlinewidth\":0,\"ticks\":\"\"},\"colorscale\":[[0.0,\"#0d0887\"],[0.1111111111111111,\"#46039f\"],[0.2222222222222222,\"#7201a8\"],[0.3333333333333333,\"#9c179e\"],[0.4444444444444444,\"#bd3786\"],[0.5555555555555556,\"#d8576b\"],[0.6666666666666666,\"#ed7953\"],[0.7777777777777778,\"#fb9f3a\"],[0.8888888888888888,\"#fdca26\"],[1.0,\"#f0f921\"]],\"type\":\"histogram2d\"}],\"histogram2dcontour\":[{\"colorbar\":{\"outlinewidth\":0,\"ticks\":\"\"},\"colorscale\":[[0.0,\"#0d0887\"],[0.1111111111111111,\"#46039f\"],[0.2222222222222222,\"#7201a8\"],[0.3333333333333333,\"#9c179e\"],[0.4444444444444444,\"#bd3786\"],[0.5555555555555556,\"#d8576b\"],[0.6666666666666666,\"#ed7953\"],[0.7777777777777778,\"#fb9f3a\"],[0.8888888888888888,\"#fdca26\"],[1.0,\"#f0f921\"]],\"type\":\"histogram2dcontour\"}],\"mesh3d\":[{\"colorbar\":{\"outlinewidth\":0,\"ticks\":\"\"},\"type\":\"mesh3d\"}],\"parcoords\":[{\"line\":{\"colorbar\":{\"outlinewidth\":0,\"ticks\":\"\"}},\"type\":\"parcoords\"}],\"pie\":[{\"automargin\":true,\"type\":\"pie\"}],\"scatter\":[{\"marker\":{\"colorbar\":{\"outlinewidth\":0,\"ticks\":\"\"}},\"type\":\"scatter\"}],\"scatter3d\":[{\"line\":{\"colorbar\":{\"outlinewidth\":0,\"ticks\":\"\"}},\"marker\":{\"colorbar\":{\"outlinewidth\":0,\"ticks\":\"\"}},\"type\":\"scatter3d\"}],\"scattercarpet\":[{\"marker\":{\"colorbar\":{\"outlinewidth\":0,\"ticks\":\"\"}},\"type\":\"scattercarpet\"}],\"scattergeo\":[{\"marker\":{\"colorbar\":{\"outlinewidth\":0,\"ticks\":\"\"}},\"type\":\"scattergeo\"}],\"scattergl\":[{\"marker\":{\"colorbar\":{\"outlinewidth\":0,\"ticks\":\"\"}},\"type\":\"scattergl\"}],\"scattermapbox\":[{\"marker\":{\"colorbar\":{\"outlinewidth\":0,\"ticks\":\"\"}},\"type\":\"scattermapbox\"}],\"scatterpolar\":[{\"marker\":{\"colorbar\":{\"outlinewidth\":0,\"ticks\":\"\"}},\"type\":\"scatterpolar\"}],\"scatterpolargl\":[{\"marker\":{\"colorbar\":{\"outlinewidth\":0,\"ticks\":\"\"}},\"type\":\"scatterpolargl\"}],\"scatterternary\":[{\"marker\":{\"colorbar\":{\"outlinewidth\":0,\"ticks\":\"\"}},\"type\":\"scatterternary\"}],\"surface\":[{\"colorbar\":{\"outlinewidth\":0,\"ticks\":\"\"},\"colorscale\":[[0.0,\"#0d0887\"],[0.1111111111111111,\"#46039f\"],[0.2222222222222222,\"#7201a8\"],[0.3333333333333333,\"#9c179e\"],[0.4444444444444444,\"#bd3786\"],[0.5555555555555556,\"#d8576b\"],[0.6666666666666666,\"#ed7953\"],[0.7777777777777778,\"#fb9f3a\"],[0.8888888888888888,\"#fdca26\"],[1.0,\"#f0f921\"]],\"type\":\"surface\"}],\"table\":[{\"cells\":{\"fill\":{\"color\":\"#EBF0F8\"},\"line\":{\"color\":\"white\"}},\"header\":{\"fill\":{\"color\":\"#C8D4E3\"},\"line\":{\"color\":\"white\"}},\"type\":\"table\"}]},\"layout\":{\"annotationdefaults\":{\"arrowcolor\":\"#2a3f5f\",\"arrowhead\":0,\"arrowwidth\":1},\"autotypenumbers\":\"strict\",\"coloraxis\":{\"colorbar\":{\"outlinewidth\":0,\"ticks\":\"\"}},\"colorscale\":{\"diverging\":[[0,\"#8e0152\"],[0.1,\"#c51b7d\"],[0.2,\"#de77ae\"],[0.3,\"#f1b6da\"],[0.4,\"#fde0ef\"],[0.5,\"#f7f7f7\"],[0.6,\"#e6f5d0\"],[0.7,\"#b8e186\"],[0.8,\"#7fbc41\"],[0.9,\"#4d9221\"],[1,\"#276419\"]],\"sequential\":[[0.0,\"#0d0887\"],[0.1111111111111111,\"#46039f\"],[0.2222222222222222,\"#7201a8\"],[0.3333333333333333,\"#9c179e\"],[0.4444444444444444,\"#bd3786\"],[0.5555555555555556,\"#d8576b\"],[0.6666666666666666,\"#ed7953\"],[0.7777777777777778,\"#fb9f3a\"],[0.8888888888888888,\"#fdca26\"],[1.0,\"#f0f921\"]],\"sequentialminus\":[[0.0,\"#0d0887\"],[0.1111111111111111,\"#46039f\"],[0.2222222222222222,\"#7201a8\"],[0.3333333333333333,\"#9c179e\"],[0.4444444444444444,\"#bd3786\"],[0.5555555555555556,\"#d8576b\"],[0.6666666666666666,\"#ed7953\"],[0.7777777777777778,\"#fb9f3a\"],[0.8888888888888888,\"#fdca26\"],[1.0,\"#f0f921\"]]},\"colorway\":[\"#636efa\",\"#EF553B\",\"#00cc96\",\"#ab63fa\",\"#FFA15A\",\"#19d3f3\",\"#FF6692\",\"#B6E880\",\"#FF97FF\",\"#FECB52\"],\"font\":{\"color\":\"#2a3f5f\"},\"geo\":{\"bgcolor\":\"white\",\"lakecolor\":\"white\",\"landcolor\":\"#E5ECF6\",\"showlakes\":true,\"showland\":true,\"subunitcolor\":\"white\"},\"hoverlabel\":{\"align\":\"left\"},\"hovermode\":\"closest\",\"mapbox\":{\"style\":\"light\"},\"paper_bgcolor\":\"white\",\"plot_bgcolor\":\"#E5ECF6\",\"polar\":{\"angularaxis\":{\"gridcolor\":\"white\",\"linecolor\":\"white\",\"ticks\":\"\"},\"bgcolor\":\"#E5ECF6\",\"radialaxis\":{\"gridcolor\":\"white\",\"linecolor\":\"white\",\"ticks\":\"\"}},\"scene\":{\"xaxis\":{\"backgroundcolor\":\"#E5ECF6\",\"gridcolor\":\"white\",\"gridwidth\":2,\"linecolor\":\"white\",\"showbackground\":true,\"ticks\":\"\",\"zerolinecolor\":\"white\"},\"yaxis\":{\"backgroundcolor\":\"#E5ECF6\",\"gridcolor\":\"white\",\"gridwidth\":2,\"linecolor\":\"white\",\"showbackground\":true,\"ticks\":\"\",\"zerolinecolor\":\"white\"},\"zaxis\":{\"backgroundcolor\":\"#E5ECF6\",\"gridcolor\":\"white\",\"gridwidth\":2,\"linecolor\":\"white\",\"showbackground\":true,\"ticks\":\"\",\"zerolinecolor\":\"white\"}},\"shapedefaults\":{\"line\":{\"color\":\"#2a3f5f\"}},\"ternary\":{\"aaxis\":{\"gridcolor\":\"white\",\"linecolor\":\"white\",\"ticks\":\"\"},\"baxis\":{\"gridcolor\":\"white\",\"linecolor\":\"white\",\"ticks\":\"\"},\"bgcolor\":\"#E5ECF6\",\"caxis\":{\"gridcolor\":\"white\",\"linecolor\":\"white\",\"ticks\":\"\"}},\"title\":{\"x\":0.05},\"xaxis\":{\"automargin\":true,\"gridcolor\":\"white\",\"linecolor\":\"white\",\"ticks\":\"\",\"title\":{\"standoff\":15},\"zerolinecolor\":\"white\",\"zerolinewidth\":2},\"yaxis\":{\"automargin\":true,\"gridcolor\":\"white\",\"linecolor\":\"white\",\"ticks\":\"\",\"title\":{\"standoff\":15},\"zerolinecolor\":\"white\",\"zerolinewidth\":2}}},\"title\":{\"text\":\"Future Cost Function\"},\"xaxis\":{\"anchor\":\"y\",\"domain\":[0.0,1.0],\"title\":{\"text\":\"Final Volume [hm3]\"}},\"xaxis2\":{\"anchor\":\"y2\",\"domain\":[0.0,1.0],\"title\":{\"text\":\"Final Volume [hm3]\"}},\"xaxis3\":{\"anchor\":\"y3\",\"domain\":[0.0,1.0],\"title\":{\"text\":\"Final Volume [hm3]\"}},\"yaxis\":{\"anchor\":\"x\",\"domain\":[0.7333333333333333,1.0],\"title\":{\"text\":\"$/MW\"}},\"yaxis2\":{\"anchor\":\"x2\",\"domain\":[0.36666666666666664,0.6333333333333333],\"title\":{\"text\":\"$/MW\"}},\"yaxis3\":{\"anchor\":\"x3\",\"domain\":[0.0,0.26666666666666666],\"title\":{\"text\":\"$/MW\"}}},                        {\"responsive\": true}                    ).then(function(){\n",
       "                            \n",
       "var gd = document.getElementById('5fc77ee3-3b5c-46f4-8eb6-e0d83b577b25');\n",
       "var x = new MutationObserver(function (mutations, observer) {{\n",
       "        var display = window.getComputedStyle(gd).display;\n",
       "        if (!display || display === 'none') {{\n",
       "            console.log([gd, 'removed!']);\n",
       "            Plotly.purge(gd);\n",
       "            observer.disconnect();\n",
       "        }}\n",
       "}});\n",
       "\n",
       "// Listen for the removal of the full notebook cells\n",
       "var notebookContainer = gd.closest('#notebook-container');\n",
       "if (notebookContainer) {{\n",
       "    x.observe(notebookContainer, {childList: true});\n",
       "}}\n",
       "\n",
       "// Listen for the clearing of the current output cell\n",
       "var outputEl = gd.closest('.output');\n",
       "if (outputEl) {{\n",
       "    x.observe(outputEl, {childList: true});\n",
       "}}\n",
       "\n",
       "                        })                };                });            </script>        </div>"
      ]
     },
     "metadata": {},
     "output_type": "display_data"
    }
   ],
   "source": [
    "from itertools import product\n",
    "import numpy as np\n",
    "\n",
    "n_hgu = len(TestSystem.data['hydro-units'])\n",
    "n_tgu = len(TestSystem.data['thermal-units'])\n",
    "\n",
    "step = 100/(TestSystem.data['discretizations']-1)\n",
    "discretizations = list(product(np.arange(0,100+step,step), repeat=n_hgu))\n",
    "\n",
    "cuts = []\n",
    "operation = []\n",
    "for stage in range(TestSystem.data['stages'],0,-1):\n",
    "    for discretization in discretizations:\n",
    "        \n",
    "        v_i = []\n",
    "        # For Every Hydro Unit\n",
    "        for i, hgu in enumerate(TestSystem.data['hydro-units']):\n",
    "            v_i.append(hgu['v_min'] + (hgu['v_max']-hgu['v_min'])*discretization[i]/100)\n",
    "        \n",
    "        # For Every Scenario\n",
    "        average = 0.\n",
    "        avg_water_marginal_cost = [0 for _ in TestSystem.data[\"hydro-units\"]]\n",
    "        for scenario in range(TestSystem.data['scenarios']):\n",
    "            inflow = []\n",
    "            for i, hgu in enumerate(TestSystem.data['hydro-units']):\n",
    "                inflow.append(hgu['inflow_scenarios'][stage-1][scenario])\n",
    "            \n",
    "            result = dispatch(TestSystem, v_i, inflow, cuts, stage+1)\n",
    "            average += result[\"total_cost\"]\n",
    "            for i, hgu in enumerate(result[\"hydro_units\"]):\n",
    "                avg_water_marginal_cost[i] += hgu[\"water_marginal_cost\"]\n",
    "\n",
    "        # Calculating the average of the scenarios\n",
    "        average = average/TestSystem.data['scenarios']\n",
    "        coef_b = average\n",
    "        for i, hgu in enumerate(result[\"hydro_units\"]):\n",
    "            # ! Invert the coeficient because of the minimization problem inverts the signal\n",
    "            avg_water_marginal_cost[i] = - avg_water_marginal_cost[i]/TestSystem.data['scenarios']\n",
    "            coef_b -= v_i[i]*avg_water_marginal_cost[i]\n",
    "            \n",
    "        cuts.append({\"stage\": stage, \"coef_b\": coef_b, \"coefs\": avg_water_marginal_cost})\n",
    "        operation.append({'stage': stage, 'discretization': discretization[i], 'v_i': v_i[0], 'average_cost': round(average,2)})\n",
    "operation_df = pd.DataFrame(operation)\n",
    "\n",
    "if n_hgu == 1:\n",
    "    plot_future_cost_function(operation=operation_df)"
   ]
  },
  {
   "cell_type": "code",
   "execution_count": 13,
   "id": "87285cd1-3bb7-4c72-bb43-4f2baf6e4077",
   "metadata": {},
   "outputs": [
    {
     "data": {
      "text/html": [
       "<div>\n",
       "<style scoped>\n",
       "    .dataframe tbody tr th:only-of-type {\n",
       "        vertical-align: middle;\n",
       "    }\n",
       "\n",
       "    .dataframe tbody tr th {\n",
       "        vertical-align: top;\n",
       "    }\n",
       "\n",
       "    .dataframe thead th {\n",
       "        text-align: right;\n",
       "    }\n",
       "</style>\n",
       "<table border=\"1\" class=\"dataframe\">\n",
       "  <thead>\n",
       "    <tr style=\"text-align: right;\">\n",
       "      <th></th>\n",
       "      <th>stage</th>\n",
       "      <th>discretization</th>\n",
       "      <th>v_i</th>\n",
       "      <th>average_cost</th>\n",
       "    </tr>\n",
       "  </thead>\n",
       "  <tbody>\n",
       "    <tr>\n",
       "      <th>0</th>\n",
       "      <td>3</td>\n",
       "      <td>0.0</td>\n",
       "      <td>20.0</td>\n",
       "      <td>6725.00</td>\n",
       "    </tr>\n",
       "    <tr>\n",
       "      <th>1</th>\n",
       "      <td>3</td>\n",
       "      <td>50.0</td>\n",
       "      <td>60.0</td>\n",
       "      <td>7.75</td>\n",
       "    </tr>\n",
       "    <tr>\n",
       "      <th>2</th>\n",
       "      <td>3</td>\n",
       "      <td>100.0</td>\n",
       "      <td>100.0</td>\n",
       "      <td>-0.00</td>\n",
       "    </tr>\n",
       "    <tr>\n",
       "      <th>3</th>\n",
       "      <td>2</td>\n",
       "      <td>0.0</td>\n",
       "      <td>20.0</td>\n",
       "      <td>11787.50</td>\n",
       "    </tr>\n",
       "    <tr>\n",
       "      <th>4</th>\n",
       "      <td>2</td>\n",
       "      <td>50.0</td>\n",
       "      <td>60.0</td>\n",
       "      <td>226.93</td>\n",
       "    </tr>\n",
       "    <tr>\n",
       "      <th>5</th>\n",
       "      <td>2</td>\n",
       "      <td>100.0</td>\n",
       "      <td>100.0</td>\n",
       "      <td>0.62</td>\n",
       "    </tr>\n",
       "    <tr>\n",
       "      <th>6</th>\n",
       "      <td>1</td>\n",
       "      <td>0.0</td>\n",
       "      <td>20.0</td>\n",
       "      <td>15425.00</td>\n",
       "    </tr>\n",
       "    <tr>\n",
       "      <th>7</th>\n",
       "      <td>1</td>\n",
       "      <td>50.0</td>\n",
       "      <td>60.0</td>\n",
       "      <td>576.31</td>\n",
       "    </tr>\n",
       "    <tr>\n",
       "      <th>8</th>\n",
       "      <td>1</td>\n",
       "      <td>100.0</td>\n",
       "      <td>100.0</td>\n",
       "      <td>161.68</td>\n",
       "    </tr>\n",
       "  </tbody>\n",
       "</table>\n",
       "</div>"
      ],
      "text/plain": [
       "   stage  discretization    v_i  average_cost\n",
       "0      3             0.0   20.0       6725.00\n",
       "1      3            50.0   60.0          7.75\n",
       "2      3           100.0  100.0         -0.00\n",
       "3      2             0.0   20.0      11787.50\n",
       "4      2            50.0   60.0        226.93\n",
       "5      2           100.0  100.0          0.62\n",
       "6      1             0.0   20.0      15425.00\n",
       "7      1            50.0   60.0        576.31\n",
       "8      1           100.0  100.0        161.68"
      ]
     },
     "execution_count": 13,
     "metadata": {},
     "output_type": "execute_result"
    }
   ],
   "source": [
    "operation_df"
   ]
  },
  {
   "cell_type": "markdown",
   "id": "613592a2-e7e0-4b0a-81b9-a5d0126dde67",
   "metadata": {},
   "source": [
    "## Considering the Future Cost Function\n",
    "\n",
    "### Modelling the cost of water\n",
    "\n",
    "Now, let's consider the Future Cost Function to back propagate the solutions. By back propagating we assume that the future cost function of the \"stage ahead\" is used as input for the previous stage solution.\n",
    "\n",
    "Assuming that any Future Cost Function is aproximated by a series of straigh line discretizations. Any given point can be identified by a straight line, which is mathematically represented by:\n",
    "\n",
    "$$\n",
    "\\begin{equation}\n",
    "    \\begin{aligned}\n",
    "        \\alpha = a \\cdot v_f + b\n",
    "    \\end{aligned}\n",
    "\\end{equation}\n",
    "$$\n",
    "\n",
    "Where $\\alpha$ is cost at a given point of final volume. Where shall find the coeficients $a$ and $b$ \n",
    "\n",
    "- $a$: Is the marginal cost of the water, which comes from the solution of the minimization problem.\n",
    "\n",
    "If we assume $\\alpha = 75$ and $v_f = 60$ which means a cost of $\\$60.00$ at Final Volume $60 hm^3$, that gives us:\n",
    "\n",
    "$$\n",
    "\\begin{equation}\n",
    "    \\begin{aligned}\n",
    "        b = \\alpha - a \\cdot v_f\n",
    "    \\end{aligned}\n",
    "\\end{equation}\n",
    "$$\n",
    "\n",
    "> Naturaly, this process is repeated for every discretization used in the problem.\n",
    "\n",
    "> $a$ is given by the average value of every scenario considered when calculating the marginal cost of the water.\n",
    "\n",
    "If we evaluate for multiple Hydro Units, naturaly:\n",
    "\n",
    "$$\n",
    "\\begin{equation}\n",
    "    \\begin{aligned}\n",
    "        \\alpha =b + \\sum_{i=1}^{n} a_i \\cdot v_{i}\n",
    "    \\end{aligned}\n",
    "\\end{equation}\n",
    "$$\n",
    "\n",
    "Where $n$ = number of Hydro units\n",
    "\n",
    "### Considering the cost function in the back propagation\n",
    "\n",
    "In the previos stage (back propagating from the end to the beggining) we have the objetive function:\n",
    "\n",
    "$$\n",
    "\\begin{equation}\n",
    "    \\begin{aligned}\n",
    "        \\min \\quad                                   & C_1\\cdot g_{t_1} + C_2\\cdot g_{t_2} + C_{def}\\cdot def + 0.01\\cdot v_v + \\alpha\\\\\n",
    "        \\textrm{s.t.} \\quad                          & \\\\\n",
    "        \\textrm{hydro balance} \\quad                 & v_f(i) = v_i(i) + afl(i) - v_t(i) - v_v(i) \\\\\n",
    "        \\textrm{load supplying} \\quad                & \\rho\\cdot v_t(i) + g_{t_1} + g_{t_2} + def = \\textrm{load}\\\\\n",
    "        \\textrm{considering the forward state}\\quad  & \\\\\n",
    "        \\textrm{for every scenario} `s` \\quad          & \\alpha \\geq a^{s} \\cdot v_f(i) + b^{s}\\\\\n",
    "                \\textrm{constraints} \\quad           & \\\\\n",
    "                                                     & v_{f_{min}}\\leq v_f(i) \\leq v_{f_{max}}\\\\\n",
    "                                                     & v_{t_{min}}\\leq v_t(i)  \\leq v_{t_{max}}\\\\\n",
    "                                                     & v_{v_{min}}\\leq v_v(i)  \\leq v_{v_{max}}\\\\\n",
    "                                                     & g_{t_{min}}\\leq g_t^\\ast \\leq g_{t_{max}}\\\\\n",
    "        ^\\ast \\textrm{for each TGU}& \n",
    "    \\end{aligned}\n",
    "\\end{equation}\n",
    "$$"
   ]
  },
  {
   "cell_type": "code",
   "execution_count": null,
   "id": "87a9795f-60d1-4dce-ad23-2fc3d6854e98",
   "metadata": {},
   "outputs": [],
   "source": []
  }
 ],
 "metadata": {
  "kernelspec": {
   "display_name": "Python 3 (ipykernel)",
   "language": "python",
   "name": "python3"
  },
  "language_info": {
   "codemirror_mode": {
    "name": "ipython",
    "version": 3
   },
   "file_extension": ".py",
   "mimetype": "text/x-python",
   "name": "python",
   "nbconvert_exporter": "python",
   "pygments_lexer": "ipython3",
   "version": "3.8.6"
  }
 },
 "nbformat": 4,
 "nbformat_minor": 5
}
